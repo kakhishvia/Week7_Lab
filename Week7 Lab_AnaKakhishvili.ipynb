{
  "metadata": {
    "kernelspec": {
      "name": "python",
      "display_name": "Python (Pyodide)",
      "language": "python"
    },
    "language_info": {
      "codemirror_mode": {
        "name": "python",
        "version": 3
      },
      "file_extension": ".py",
      "mimetype": "text/x-python",
      "name": "python",
      "nbconvert_exporter": "python",
      "pygments_lexer": "ipython3",
      "version": "3.8"
    }
  },
  "nbformat_minor": 5,
  "nbformat": 4,
  "cells": [
    {
      "id": "047e1313-4d8e-466d-b449-ced4f1519d8e",
      "cell_type": "code",
      "source": "import random\n\ndef simulate_zkp(trials=20, knows_password=True):\n    \"\"\"\n    Simulates the Ali Baba Cave protocol for Zero-Knowledge Proof.\n    Prints the number of successful responses and probability for a prover.\n    \"\"\"\n    success_count = 0\n\n    for _ in range(trials):\n        path_entered = random.choice(['A', 'B'])     # Alice chooses a path\n        challenge = random.choice(['A', 'B'])         # Bob challenges her\n\n        # If Alice knows the password, she always succeeds\n        if knows_password:\n            success = True\n        else:\n            success = path_entered == challenge       # Malicious prover only wins if lucky\n\n        if success:\n            success_count += 1\n\n    probability = success_count / trials\n    prover_type = \"Honest\" if knows_password else \"Malicious\"\n    print(f\"{prover_type} prover: {success_count}/{trials} successful responses\")\n    print(f\"Success probability: {probability:.2f}\")\n\n# Run both simulations\nsimulate_zkp(trials=20, knows_password=True)    # Honest prover\nsimulate_zkp(trials=20, knows_password=False)   # Malicious prover\n",
      "metadata": {
        "trusted": true
      },
      "outputs": [
        {
          "name": "stdout",
          "output_type": "stream",
          "text": "Honest prover: 20/20 successful responses\nSuccess probability: 1.00\nMalicious prover: 8/20 successful responses\nSuccess probability: 0.40\n"
        }
      ],
      "execution_count": 1
    },
    {
      "id": "7bccfbc5-67f5-4c67-9c58-ef911e0d03bd",
      "cell_type": "code",
      "source": "def factorial(n):\n    \"\"\"\n    Computes the factorial of n using recursion.\n    \"\"\"\n    if n == 0 or n == 1:\n        return 1\n    else:\n        return n * factorial(n - 1)\n",
      "metadata": {
        "trusted": true
      },
      "outputs": [],
      "execution_count": 2
    },
    {
      "id": "01a1e64f-28d9-4e5b-967e-2b4d43bb6354",
      "cell_type": "code",
      "source": "print(factorial(5))  # Expected output: 120\n",
      "metadata": {
        "trusted": true
      },
      "outputs": [
        {
          "name": "stdout",
          "output_type": "stream",
          "text": "120\n"
        }
      ],
      "execution_count": 3
    },
    {
      "id": "164b5c47-aa15-43de-89ce-6e21e6c9f0a9",
      "cell_type": "code",
      "source": "def f9(x1):\n    # basic math\n    if x1 == 0 or x1 == 1:\n        return 1\n    else:\n        return x1 * f9(x1 - 1)\n",
      "metadata": {
        "trusted": true
      },
      "outputs": [],
      "execution_count": 5
    },
    {
      "id": "6e91bcc9-853a-4655-8a4a-16f7bd414ec0",
      "cell_type": "code",
      "source": "print(f9(5))  # Output: 120\n",
      "metadata": {
        "trusted": true
      },
      "outputs": [
        {
          "name": "stdout",
          "output_type": "stream",
          "text": "120\n"
        }
      ],
      "execution_count": 6
    },
    {
      "id": "9cf53ce9-8c31-4f2c-a945-179a0d23c206",
      "cell_type": "markdown",
      "source": "## Manual Code Obfuscation Notes\n\nI applied manual obfuscation by renaming the function and variable to meaningless names:\n- `factorial` → `f9`\n- `n` → `x1`\n\nThis makes the code harder to understand at first glance while keeping the logic unchanged.\n",
      "metadata": {}
    },
    {
      "id": "82fc4eb1-9d2e-48d6-8fbd-b6737370fb89",
      "cell_type": "code",
      "source": "import base64\n\n# Original code to encode\noriginal_code = \"\"\"\ndef f9(x1):\n    # basic math\n    if x1 == 0 or x1 == 1:\n        return 1\n    else:\n        return x1 * f9(x1 - 1)\n\"\"\"\n\n# Encode to base64\nencoded_code = base64.b64encode(original_code.encode()).decode()\n\nprint(\"🔐 Obfuscated code (base64):\")\nprint(encoded_code)\n\n# Optional: decode back to show how it's reversible\ndecoded_code = base64.b64decode(encoded_code.encode()).decode()\nprint(\"\\n🔓 Decoded (original) code:\")\nprint(decoded_code)\n",
      "metadata": {
        "trusted": true
      },
      "outputs": [
        {
          "name": "stdout",
          "output_type": "stream",
          "text": "🔐 Obfuscated code (base64):\nCmRlZiBmOSh4MSk6CiAgICAjIGJhc2ljIG1hdGgKICAgIGlmIHgxID09IDAgb3IgeDEgPT0gMToKICAgICAgICByZXR1cm4gMQogICAgZWxzZToKICAgICAgICByZXR1cm4geDEgKiBmOSh4MSAtIDEpCg==\n\n🔓 Decoded (original) code:\n\ndef f9(x1):\n    # basic math\n    if x1 == 0 or x1 == 1:\n        return 1\n    else:\n        return x1 * f9(x1 - 1)\n\n"
        }
      ],
      "execution_count": 8
    },
    {
      "id": "1d261a45-8dea-4a74-8d5b-bcc71e454a45",
      "cell_type": "markdown",
      "source": "# 🔓 Decoded (original) version from base64\n\nimport base64\n\nencoded_code = \"CmRlZiBmOSgxeToKICAgICMgYmFzaWMgbWF0aA...\"\n\ndecoded_code = base64.b64decode(encoded_code.encode()).decode()\nprint(decoded_code)\n",
      "metadata": {}
    },
    {
      "id": "4204499e-aa60-4eca-97ea-a05acea2fbb0",
      "cell_type": "markdown",
      "source": "## Shared Code Summary\n\nI have included both the original and obfuscated versions of the function below.  \nThe original version is clear and documented.  \nThe manually obfuscated version uses generic names like `f9`, `x1`.  \nThe automatically obfuscated version was base64 encoded, hiding the logic from plain sight.\n",
      "metadata": {}
    },
    {
      "id": "ae1ca4be-7be7-451d-9719-a260132dc9dd",
      "cell_type": "markdown",
      "source": "## Explanation of Obfuscation Types Used\n\n### Manual Obfuscation\nFor manual obfuscation, I renamed the function and variable in a simple recursive `factorial()` function.  \nI changed:\n- `factorial` → `f9`\n- `n` → `x1`\n\nThis type of obfuscation hides the meaning of the code without changing its behavior.  \nIt is a basic form of protection against casual readers or reverse engineers.  \nAlthough this method is easy to reverse with enough analysis, it’s commonly used to reduce code readability.\n\n### Automatic Obfuscation\nFor automatic obfuscation, I used **base64 encoding** to hide the code’s contents.  \nBase64 transforms the source code into an unreadable string that can only be understood if decoded.\n\nThis technique doesn't secure the logic (as it can be easily reversed), but it simulates how automated obfuscation tools work — by hiding or transforming source code into a less readable format.\n\n**Why these methods?**  \nManual obfuscation demonstrates how naming conventions can protect logic flow.  \nAutomatic obfuscation (via base64) offers a quick way to mask code content from plain sight and is easy to implement inside Jupyter without extra tools.\n\n    ",
      "metadata": {}
    },
    {
      "id": "ba3608cc-cbfc-4794-94c7-8f5e5bdb9393",
      "cell_type": "code",
      "source": "",
      "metadata": {
        "trusted": true
      },
      "outputs": [],
      "execution_count": null
    }
  ]
}